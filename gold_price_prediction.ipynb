{
  "nbformat": 4,
  "nbformat_minor": 0,
  "metadata": {
    "colab": {
      "provenance": []
    },
    "kernelspec": {
      "name": "python3",
      "display_name": "Python 3"
    },
    "language_info": {
      "name": "python"
    }
  },
  "cells": [
    {
      "cell_type": "code",
      "execution_count": 1,
      "metadata": {
        "id": "HeO-B1bFB7M0"
      },
      "outputs": [],
      "source": [
        "import numpy as np\n",
        "import pandas as pd\n",
        "import matplotlib.pyplot as plt\n",
        "import seaborn as sns\n",
        "from sklearn.model_selection import train_test_split\n",
        "from sklearn.ensemble import RandomForestRegressor\n",
        "from sklearn import metrics"
      ]
    },
    {
      "cell_type": "code",
      "source": [
        "df = pd.read_csv('/content/gld_price_data.csv')\n",
        "df"
      ],
      "metadata": {
        "colab": {
          "base_uri": "https://localhost:8080/",
          "height": 423
        },
        "id": "9S4QUrFwC4gg",
        "outputId": "e6a98b3d-b80d-4581-cba4-7b205f77de57"
      },
      "execution_count": 2,
      "outputs": [
        {
          "output_type": "execute_result",
          "data": {
            "text/plain": [
              "           Date          SPX         GLD        USO      SLV   EUR/USD\n",
              "0      1/2/2008  1447.160034   84.860001  78.470001  15.1800  1.471692\n",
              "1      1/3/2008  1447.160034   85.570000  78.370003  15.2850  1.474491\n",
              "2      1/4/2008  1411.630005   85.129997  77.309998  15.1670  1.475492\n",
              "3      1/7/2008  1416.180054   84.769997  75.500000  15.0530  1.468299\n",
              "4      1/8/2008  1390.189941   86.779999  76.059998  15.5900  1.557099\n",
              "...         ...          ...         ...        ...      ...       ...\n",
              "2285   5/8/2018  2671.919922  124.589996  14.060000  15.5100  1.186789\n",
              "2286   5/9/2018  2697.790039  124.330002  14.370000  15.5300  1.184722\n",
              "2287  5/10/2018  2723.070068  125.180000  14.410000  15.7400  1.191753\n",
              "2288  5/14/2018  2730.129883  124.489998  14.380000  15.5600  1.193118\n",
              "2289  5/16/2018  2725.780029  122.543800  14.405800  15.4542  1.182033\n",
              "\n",
              "[2290 rows x 6 columns]"
            ],
            "text/html": [
              "\n",
              "  <div id=\"df-92ad44c9-543c-4ccb-8a58-695cf89cde89\">\n",
              "    <div class=\"colab-df-container\">\n",
              "      <div>\n",
              "<style scoped>\n",
              "    .dataframe tbody tr th:only-of-type {\n",
              "        vertical-align: middle;\n",
              "    }\n",
              "\n",
              "    .dataframe tbody tr th {\n",
              "        vertical-align: top;\n",
              "    }\n",
              "\n",
              "    .dataframe thead th {\n",
              "        text-align: right;\n",
              "    }\n",
              "</style>\n",
              "<table border=\"1\" class=\"dataframe\">\n",
              "  <thead>\n",
              "    <tr style=\"text-align: right;\">\n",
              "      <th></th>\n",
              "      <th>Date</th>\n",
              "      <th>SPX</th>\n",
              "      <th>GLD</th>\n",
              "      <th>USO</th>\n",
              "      <th>SLV</th>\n",
              "      <th>EUR/USD</th>\n",
              "    </tr>\n",
              "  </thead>\n",
              "  <tbody>\n",
              "    <tr>\n",
              "      <th>0</th>\n",
              "      <td>1/2/2008</td>\n",
              "      <td>1447.160034</td>\n",
              "      <td>84.860001</td>\n",
              "      <td>78.470001</td>\n",
              "      <td>15.1800</td>\n",
              "      <td>1.471692</td>\n",
              "    </tr>\n",
              "    <tr>\n",
              "      <th>1</th>\n",
              "      <td>1/3/2008</td>\n",
              "      <td>1447.160034</td>\n",
              "      <td>85.570000</td>\n",
              "      <td>78.370003</td>\n",
              "      <td>15.2850</td>\n",
              "      <td>1.474491</td>\n",
              "    </tr>\n",
              "    <tr>\n",
              "      <th>2</th>\n",
              "      <td>1/4/2008</td>\n",
              "      <td>1411.630005</td>\n",
              "      <td>85.129997</td>\n",
              "      <td>77.309998</td>\n",
              "      <td>15.1670</td>\n",
              "      <td>1.475492</td>\n",
              "    </tr>\n",
              "    <tr>\n",
              "      <th>3</th>\n",
              "      <td>1/7/2008</td>\n",
              "      <td>1416.180054</td>\n",
              "      <td>84.769997</td>\n",
              "      <td>75.500000</td>\n",
              "      <td>15.0530</td>\n",
              "      <td>1.468299</td>\n",
              "    </tr>\n",
              "    <tr>\n",
              "      <th>4</th>\n",
              "      <td>1/8/2008</td>\n",
              "      <td>1390.189941</td>\n",
              "      <td>86.779999</td>\n",
              "      <td>76.059998</td>\n",
              "      <td>15.5900</td>\n",
              "      <td>1.557099</td>\n",
              "    </tr>\n",
              "    <tr>\n",
              "      <th>...</th>\n",
              "      <td>...</td>\n",
              "      <td>...</td>\n",
              "      <td>...</td>\n",
              "      <td>...</td>\n",
              "      <td>...</td>\n",
              "      <td>...</td>\n",
              "    </tr>\n",
              "    <tr>\n",
              "      <th>2285</th>\n",
              "      <td>5/8/2018</td>\n",
              "      <td>2671.919922</td>\n",
              "      <td>124.589996</td>\n",
              "      <td>14.060000</td>\n",
              "      <td>15.5100</td>\n",
              "      <td>1.186789</td>\n",
              "    </tr>\n",
              "    <tr>\n",
              "      <th>2286</th>\n",
              "      <td>5/9/2018</td>\n",
              "      <td>2697.790039</td>\n",
              "      <td>124.330002</td>\n",
              "      <td>14.370000</td>\n",
              "      <td>15.5300</td>\n",
              "      <td>1.184722</td>\n",
              "    </tr>\n",
              "    <tr>\n",
              "      <th>2287</th>\n",
              "      <td>5/10/2018</td>\n",
              "      <td>2723.070068</td>\n",
              "      <td>125.180000</td>\n",
              "      <td>14.410000</td>\n",
              "      <td>15.7400</td>\n",
              "      <td>1.191753</td>\n",
              "    </tr>\n",
              "    <tr>\n",
              "      <th>2288</th>\n",
              "      <td>5/14/2018</td>\n",
              "      <td>2730.129883</td>\n",
              "      <td>124.489998</td>\n",
              "      <td>14.380000</td>\n",
              "      <td>15.5600</td>\n",
              "      <td>1.193118</td>\n",
              "    </tr>\n",
              "    <tr>\n",
              "      <th>2289</th>\n",
              "      <td>5/16/2018</td>\n",
              "      <td>2725.780029</td>\n",
              "      <td>122.543800</td>\n",
              "      <td>14.405800</td>\n",
              "      <td>15.4542</td>\n",
              "      <td>1.182033</td>\n",
              "    </tr>\n",
              "  </tbody>\n",
              "</table>\n",
              "<p>2290 rows × 6 columns</p>\n",
              "</div>\n",
              "      <button class=\"colab-df-convert\" onclick=\"convertToInteractive('df-92ad44c9-543c-4ccb-8a58-695cf89cde89')\"\n",
              "              title=\"Convert this dataframe to an interactive table.\"\n",
              "              style=\"display:none;\">\n",
              "        \n",
              "  <svg xmlns=\"http://www.w3.org/2000/svg\" height=\"24px\"viewBox=\"0 0 24 24\"\n",
              "       width=\"24px\">\n",
              "    <path d=\"M0 0h24v24H0V0z\" fill=\"none\"/>\n",
              "    <path d=\"M18.56 5.44l.94 2.06.94-2.06 2.06-.94-2.06-.94-.94-2.06-.94 2.06-2.06.94zm-11 1L8.5 8.5l.94-2.06 2.06-.94-2.06-.94L8.5 2.5l-.94 2.06-2.06.94zm10 10l.94 2.06.94-2.06 2.06-.94-2.06-.94-.94-2.06-.94 2.06-2.06.94z\"/><path d=\"M17.41 7.96l-1.37-1.37c-.4-.4-.92-.59-1.43-.59-.52 0-1.04.2-1.43.59L10.3 9.45l-7.72 7.72c-.78.78-.78 2.05 0 2.83L4 21.41c.39.39.9.59 1.41.59.51 0 1.02-.2 1.41-.59l7.78-7.78 2.81-2.81c.8-.78.8-2.07 0-2.86zM5.41 20L4 18.59l7.72-7.72 1.47 1.35L5.41 20z\"/>\n",
              "  </svg>\n",
              "      </button>\n",
              "      \n",
              "  <style>\n",
              "    .colab-df-container {\n",
              "      display:flex;\n",
              "      flex-wrap:wrap;\n",
              "      gap: 12px;\n",
              "    }\n",
              "\n",
              "    .colab-df-convert {\n",
              "      background-color: #E8F0FE;\n",
              "      border: none;\n",
              "      border-radius: 50%;\n",
              "      cursor: pointer;\n",
              "      display: none;\n",
              "      fill: #1967D2;\n",
              "      height: 32px;\n",
              "      padding: 0 0 0 0;\n",
              "      width: 32px;\n",
              "    }\n",
              "\n",
              "    .colab-df-convert:hover {\n",
              "      background-color: #E2EBFA;\n",
              "      box-shadow: 0px 1px 2px rgba(60, 64, 67, 0.3), 0px 1px 3px 1px rgba(60, 64, 67, 0.15);\n",
              "      fill: #174EA6;\n",
              "    }\n",
              "\n",
              "    [theme=dark] .colab-df-convert {\n",
              "      background-color: #3B4455;\n",
              "      fill: #D2E3FC;\n",
              "    }\n",
              "\n",
              "    [theme=dark] .colab-df-convert:hover {\n",
              "      background-color: #434B5C;\n",
              "      box-shadow: 0px 1px 3px 1px rgba(0, 0, 0, 0.15);\n",
              "      filter: drop-shadow(0px 1px 2px rgba(0, 0, 0, 0.3));\n",
              "      fill: #FFFFFF;\n",
              "    }\n",
              "  </style>\n",
              "\n",
              "      <script>\n",
              "        const buttonEl =\n",
              "          document.querySelector('#df-92ad44c9-543c-4ccb-8a58-695cf89cde89 button.colab-df-convert');\n",
              "        buttonEl.style.display =\n",
              "          google.colab.kernel.accessAllowed ? 'block' : 'none';\n",
              "\n",
              "        async function convertToInteractive(key) {\n",
              "          const element = document.querySelector('#df-92ad44c9-543c-4ccb-8a58-695cf89cde89');\n",
              "          const dataTable =\n",
              "            await google.colab.kernel.invokeFunction('convertToInteractive',\n",
              "                                                     [key], {});\n",
              "          if (!dataTable) return;\n",
              "\n",
              "          const docLinkHtml = 'Like what you see? Visit the ' +\n",
              "            '<a target=\"_blank\" href=https://colab.research.google.com/notebooks/data_table.ipynb>data table notebook</a>'\n",
              "            + ' to learn more about interactive tables.';\n",
              "          element.innerHTML = '';\n",
              "          dataTable['output_type'] = 'display_data';\n",
              "          await google.colab.output.renderOutput(dataTable, element);\n",
              "          const docLink = document.createElement('div');\n",
              "          docLink.innerHTML = docLinkHtml;\n",
              "          element.appendChild(docLink);\n",
              "        }\n",
              "      </script>\n",
              "    </div>\n",
              "  </div>\n",
              "  "
            ]
          },
          "metadata": {},
          "execution_count": 2
        }
      ]
    },
    {
      "cell_type": "code",
      "source": [
        "df.shape"
      ],
      "metadata": {
        "colab": {
          "base_uri": "https://localhost:8080/"
        },
        "id": "d2QW7ZsMDPfL",
        "outputId": "b73cfe04-616f-461a-8aca-c85e0de746b0"
      },
      "execution_count": 3,
      "outputs": [
        {
          "output_type": "execute_result",
          "data": {
            "text/plain": [
              "(2290, 6)"
            ]
          },
          "metadata": {},
          "execution_count": 3
        }
      ]
    },
    {
      "cell_type": "code",
      "source": [
        "df.info()"
      ],
      "metadata": {
        "colab": {
          "base_uri": "https://localhost:8080/"
        },
        "id": "iNc_oce5DSKI",
        "outputId": "18a19f45-6f42-48e2-f2c2-e6f6b0cb5f75"
      },
      "execution_count": 4,
      "outputs": [
        {
          "output_type": "stream",
          "name": "stdout",
          "text": [
            "<class 'pandas.core.frame.DataFrame'>\n",
            "RangeIndex: 2290 entries, 0 to 2289\n",
            "Data columns (total 6 columns):\n",
            " #   Column   Non-Null Count  Dtype  \n",
            "---  ------   --------------  -----  \n",
            " 0   Date     2290 non-null   object \n",
            " 1   SPX      2290 non-null   float64\n",
            " 2   GLD      2290 non-null   float64\n",
            " 3   USO      2290 non-null   float64\n",
            " 4   SLV      2290 non-null   float64\n",
            " 5   EUR/USD  2290 non-null   float64\n",
            "dtypes: float64(5), object(1)\n",
            "memory usage: 107.5+ KB\n"
          ]
        }
      ]
    },
    {
      "cell_type": "code",
      "source": [
        "df.isnull().sum()"
      ],
      "metadata": {
        "colab": {
          "base_uri": "https://localhost:8080/"
        },
        "id": "qaTv60p4DTaY",
        "outputId": "2c829a09-ff50-4527-c643-70fdb470776a"
      },
      "execution_count": 5,
      "outputs": [
        {
          "output_type": "execute_result",
          "data": {
            "text/plain": [
              "Date       0\n",
              "SPX        0\n",
              "GLD        0\n",
              "USO        0\n",
              "SLV        0\n",
              "EUR/USD    0\n",
              "dtype: int64"
            ]
          },
          "metadata": {},
          "execution_count": 5
        }
      ]
    },
    {
      "cell_type": "code",
      "source": [
        "df.describe()"
      ],
      "metadata": {
        "colab": {
          "base_uri": "https://localhost:8080/",
          "height": 300
        },
        "id": "h8G_vGQrDW2w",
        "outputId": "170689e7-e712-4d9d-fe28-790776c8d1c0"
      },
      "execution_count": 6,
      "outputs": [
        {
          "output_type": "execute_result",
          "data": {
            "text/plain": [
              "               SPX          GLD          USO          SLV      EUR/USD\n",
              "count  2290.000000  2290.000000  2290.000000  2290.000000  2290.000000\n",
              "mean   1654.315776   122.732875    31.842221    20.084997     1.283653\n",
              "std     519.111540    23.283346    19.523517     7.092566     0.131547\n",
              "min     676.530029    70.000000     7.960000     8.850000     1.039047\n",
              "25%    1239.874969   109.725000    14.380000    15.570000     1.171313\n",
              "50%    1551.434998   120.580002    33.869999    17.268500     1.303297\n",
              "75%    2073.010070   132.840004    37.827501    22.882500     1.369971\n",
              "max    2872.870117   184.589996   117.480003    47.259998     1.598798"
            ],
            "text/html": [
              "\n",
              "  <div id=\"df-332dc44a-73ea-456e-bf9c-8ab31332a864\">\n",
              "    <div class=\"colab-df-container\">\n",
              "      <div>\n",
              "<style scoped>\n",
              "    .dataframe tbody tr th:only-of-type {\n",
              "        vertical-align: middle;\n",
              "    }\n",
              "\n",
              "    .dataframe tbody tr th {\n",
              "        vertical-align: top;\n",
              "    }\n",
              "\n",
              "    .dataframe thead th {\n",
              "        text-align: right;\n",
              "    }\n",
              "</style>\n",
              "<table border=\"1\" class=\"dataframe\">\n",
              "  <thead>\n",
              "    <tr style=\"text-align: right;\">\n",
              "      <th></th>\n",
              "      <th>SPX</th>\n",
              "      <th>GLD</th>\n",
              "      <th>USO</th>\n",
              "      <th>SLV</th>\n",
              "      <th>EUR/USD</th>\n",
              "    </tr>\n",
              "  </thead>\n",
              "  <tbody>\n",
              "    <tr>\n",
              "      <th>count</th>\n",
              "      <td>2290.000000</td>\n",
              "      <td>2290.000000</td>\n",
              "      <td>2290.000000</td>\n",
              "      <td>2290.000000</td>\n",
              "      <td>2290.000000</td>\n",
              "    </tr>\n",
              "    <tr>\n",
              "      <th>mean</th>\n",
              "      <td>1654.315776</td>\n",
              "      <td>122.732875</td>\n",
              "      <td>31.842221</td>\n",
              "      <td>20.084997</td>\n",
              "      <td>1.283653</td>\n",
              "    </tr>\n",
              "    <tr>\n",
              "      <th>std</th>\n",
              "      <td>519.111540</td>\n",
              "      <td>23.283346</td>\n",
              "      <td>19.523517</td>\n",
              "      <td>7.092566</td>\n",
              "      <td>0.131547</td>\n",
              "    </tr>\n",
              "    <tr>\n",
              "      <th>min</th>\n",
              "      <td>676.530029</td>\n",
              "      <td>70.000000</td>\n",
              "      <td>7.960000</td>\n",
              "      <td>8.850000</td>\n",
              "      <td>1.039047</td>\n",
              "    </tr>\n",
              "    <tr>\n",
              "      <th>25%</th>\n",
              "      <td>1239.874969</td>\n",
              "      <td>109.725000</td>\n",
              "      <td>14.380000</td>\n",
              "      <td>15.570000</td>\n",
              "      <td>1.171313</td>\n",
              "    </tr>\n",
              "    <tr>\n",
              "      <th>50%</th>\n",
              "      <td>1551.434998</td>\n",
              "      <td>120.580002</td>\n",
              "      <td>33.869999</td>\n",
              "      <td>17.268500</td>\n",
              "      <td>1.303297</td>\n",
              "    </tr>\n",
              "    <tr>\n",
              "      <th>75%</th>\n",
              "      <td>2073.010070</td>\n",
              "      <td>132.840004</td>\n",
              "      <td>37.827501</td>\n",
              "      <td>22.882500</td>\n",
              "      <td>1.369971</td>\n",
              "    </tr>\n",
              "    <tr>\n",
              "      <th>max</th>\n",
              "      <td>2872.870117</td>\n",
              "      <td>184.589996</td>\n",
              "      <td>117.480003</td>\n",
              "      <td>47.259998</td>\n",
              "      <td>1.598798</td>\n",
              "    </tr>\n",
              "  </tbody>\n",
              "</table>\n",
              "</div>\n",
              "      <button class=\"colab-df-convert\" onclick=\"convertToInteractive('df-332dc44a-73ea-456e-bf9c-8ab31332a864')\"\n",
              "              title=\"Convert this dataframe to an interactive table.\"\n",
              "              style=\"display:none;\">\n",
              "        \n",
              "  <svg xmlns=\"http://www.w3.org/2000/svg\" height=\"24px\"viewBox=\"0 0 24 24\"\n",
              "       width=\"24px\">\n",
              "    <path d=\"M0 0h24v24H0V0z\" fill=\"none\"/>\n",
              "    <path d=\"M18.56 5.44l.94 2.06.94-2.06 2.06-.94-2.06-.94-.94-2.06-.94 2.06-2.06.94zm-11 1L8.5 8.5l.94-2.06 2.06-.94-2.06-.94L8.5 2.5l-.94 2.06-2.06.94zm10 10l.94 2.06.94-2.06 2.06-.94-2.06-.94-.94-2.06-.94 2.06-2.06.94z\"/><path d=\"M17.41 7.96l-1.37-1.37c-.4-.4-.92-.59-1.43-.59-.52 0-1.04.2-1.43.59L10.3 9.45l-7.72 7.72c-.78.78-.78 2.05 0 2.83L4 21.41c.39.39.9.59 1.41.59.51 0 1.02-.2 1.41-.59l7.78-7.78 2.81-2.81c.8-.78.8-2.07 0-2.86zM5.41 20L4 18.59l7.72-7.72 1.47 1.35L5.41 20z\"/>\n",
              "  </svg>\n",
              "      </button>\n",
              "      \n",
              "  <style>\n",
              "    .colab-df-container {\n",
              "      display:flex;\n",
              "      flex-wrap:wrap;\n",
              "      gap: 12px;\n",
              "    }\n",
              "\n",
              "    .colab-df-convert {\n",
              "      background-color: #E8F0FE;\n",
              "      border: none;\n",
              "      border-radius: 50%;\n",
              "      cursor: pointer;\n",
              "      display: none;\n",
              "      fill: #1967D2;\n",
              "      height: 32px;\n",
              "      padding: 0 0 0 0;\n",
              "      width: 32px;\n",
              "    }\n",
              "\n",
              "    .colab-df-convert:hover {\n",
              "      background-color: #E2EBFA;\n",
              "      box-shadow: 0px 1px 2px rgba(60, 64, 67, 0.3), 0px 1px 3px 1px rgba(60, 64, 67, 0.15);\n",
              "      fill: #174EA6;\n",
              "    }\n",
              "\n",
              "    [theme=dark] .colab-df-convert {\n",
              "      background-color: #3B4455;\n",
              "      fill: #D2E3FC;\n",
              "    }\n",
              "\n",
              "    [theme=dark] .colab-df-convert:hover {\n",
              "      background-color: #434B5C;\n",
              "      box-shadow: 0px 1px 3px 1px rgba(0, 0, 0, 0.15);\n",
              "      filter: drop-shadow(0px 1px 2px rgba(0, 0, 0, 0.3));\n",
              "      fill: #FFFFFF;\n",
              "    }\n",
              "  </style>\n",
              "\n",
              "      <script>\n",
              "        const buttonEl =\n",
              "          document.querySelector('#df-332dc44a-73ea-456e-bf9c-8ab31332a864 button.colab-df-convert');\n",
              "        buttonEl.style.display =\n",
              "          google.colab.kernel.accessAllowed ? 'block' : 'none';\n",
              "\n",
              "        async function convertToInteractive(key) {\n",
              "          const element = document.querySelector('#df-332dc44a-73ea-456e-bf9c-8ab31332a864');\n",
              "          const dataTable =\n",
              "            await google.colab.kernel.invokeFunction('convertToInteractive',\n",
              "                                                     [key], {});\n",
              "          if (!dataTable) return;\n",
              "\n",
              "          const docLinkHtml = 'Like what you see? Visit the ' +\n",
              "            '<a target=\"_blank\" href=https://colab.research.google.com/notebooks/data_table.ipynb>data table notebook</a>'\n",
              "            + ' to learn more about interactive tables.';\n",
              "          element.innerHTML = '';\n",
              "          dataTable['output_type'] = 'display_data';\n",
              "          await google.colab.output.renderOutput(dataTable, element);\n",
              "          const docLink = document.createElement('div');\n",
              "          docLink.innerHTML = docLinkHtml;\n",
              "          element.appendChild(docLink);\n",
              "        }\n",
              "      </script>\n",
              "    </div>\n",
              "  </div>\n",
              "  "
            ]
          },
          "metadata": {},
          "execution_count": 6
        }
      ]
    },
    {
      "cell_type": "code",
      "source": [
        "#correlation\n",
        "correlation = df.corr()"
      ],
      "metadata": {
        "id": "QOP6NaUBDZBX"
      },
      "execution_count": 7,
      "outputs": []
    },
    {
      "cell_type": "code",
      "source": [
        "plt.figure(figsize = (8,8))\n",
        "sns.heatmap(correlation,cbar = True, square = True, fmt='.1f',annot = True , annot_kws ={'size':9}, cmap = 'Reds')"
      ],
      "metadata": {
        "colab": {
          "base_uri": "https://localhost:8080/",
          "height": 488
        },
        "id": "IxOX2doaDf-_",
        "outputId": "b4d2da86-3053-4992-ea34-41f5d2c1b771"
      },
      "execution_count": 9,
      "outputs": [
        {
          "output_type": "execute_result",
          "data": {
            "text/plain": [
              "<matplotlib.axes._subplots.AxesSubplot at 0x7f8cedd9e760>"
            ]
          },
          "metadata": {},
          "execution_count": 9
        },
        {
          "output_type": "display_data",
          "data": {
            "text/plain": [
              "<Figure size 576x576 with 2 Axes>"
            ],
            "image/png": "[encoded data removed]"
          },
          "metadata": {
            "needs_background": "light"
          }
        }
      ]
    },
    {
      "cell_type": "code",
      "source": [
        "print(correlation['GLD'])"
      ],
      "metadata": {
        "colab": {
          "base_uri": "https://localhost:8080/"
        },
        "id": "BH3h-i7GD8wZ",
        "outputId": "e98b2137-d842-4949-bd0a-c4566cc04aac"
      },
      "execution_count": 10,
      "outputs": [
        {
          "output_type": "stream",
          "name": "stdout",
          "text": [
            "SPX        0.049345\n",
            "GLD        1.000000\n",
            "USO       -0.186360\n",
            "SLV        0.866632\n",
            "EUR/USD   -0.024375\n",
            "Name: GLD, dtype: float64\n"
          ]
        }
      ]
    },
    {
      "cell_type": "code",
      "source": [
        "#checking the distribution\n",
        "sns.distplot(df['GLD'],color = 'blue')"
      ],
      "metadata": {
        "colab": {
          "base_uri": "https://localhost:8080/",
          "height": 357
        },
        "id": "H48L9lCAEGAB",
        "outputId": "de9ec3a8-ac57-4be1-dceb-cac434157127"
      },
      "execution_count": 11,
      "outputs": [
        {
          "output_type": "stream",
          "name": "stderr",
          "text": [
            "/usr/local/lib/python3.8/dist-packages/seaborn/distributions.py:2619: FutureWarning: `distplot` is a deprecated function and will be removed in a future version. Please adapt your code to use either `displot` (a figure-level function with similar flexibility) or `histplot` (an axes-level function for histograms).\n",
            "  warnings.warn(msg, FutureWarning)\n"
          ]
        },
        {
          "output_type": "execute_result",
          "data": {
            "text/plain": [
              "<matplotlib.axes._subplots.AxesSubplot at 0x7f8ceae1e1c0>"
            ]
          },
          "metadata": {},
          "execution_count": 11
        },
        {
          "output_type": "display_data",
          "data": {
            "text/plain": [
              "<Figure size 432x288 with 1 Axes>"
            ],
            "image/png": "[encoded data removed]"
          },
          "metadata": {
            "needs_background": "light"
          }
        }
      ]
    },
    {
      "cell_type": "code",
      "source": [
        "X = df.drop(['Date','GLD'],axis = 1)\n",
        "Y = df['GLD']"
      ],
      "metadata": {
        "id": "lGjFavjXER2x"
      },
      "execution_count": 12,
      "outputs": []
    },
    {
      "cell_type": "code",
      "source": [
        "print(X)"
      ],
      "metadata": {
        "colab": {
          "base_uri": "https://localhost:8080/"
        },
        "id": "FXRaSCcHEe_G",
        "outputId": "9e92dadb-1704-4c96-f992-0cb33a16731b"
      },
      "execution_count": 13,
      "outputs": [
        {
          "output_type": "stream",
          "name": "stdout",
          "text": [
            "              SPX        USO      SLV   EUR/USD\n",
            "0     1447.160034  78.470001  15.1800  1.471692\n",
            "1     1447.160034  78.370003  15.2850  1.474491\n",
            "2     1411.630005  77.309998  15.1670  1.475492\n",
            "3     1416.180054  75.500000  15.0530  1.468299\n",
            "4     1390.189941  76.059998  15.5900  1.557099\n",
            "...           ...        ...      ...       ...\n",
            "2285  2671.919922  14.060000  15.5100  1.186789\n",
            "2286  2697.790039  14.370000  15.5300  1.184722\n",
            "2287  2723.070068  14.410000  15.7400  1.191753\n",
            "2288  2730.129883  14.380000  15.5600  1.193118\n",
            "2289  2725.780029  14.405800  15.4542  1.182033\n",
            "\n",
            "[2290 rows x 4 columns]\n"
          ]
        }
      ]
    },
    {
      "cell_type": "code",
      "source": [
        "print(Y)"
      ],
      "metadata": {
        "colab": {
          "base_uri": "https://localhost:8080/"
        },
        "id": "Nz41b5hcEiNj",
        "outputId": "6c915432-7e87-42f0-8b39-c22dc57c35d1"
      },
      "execution_count": 14,
      "outputs": [
        {
          "output_type": "stream",
          "name": "stdout",
          "text": [
            "0        84.860001\n",
            "1        85.570000\n",
            "2        85.129997\n",
            "3        84.769997\n",
            "4        86.779999\n",
            "           ...    \n",
            "2285    124.589996\n",
            "2286    124.330002\n",
            "2287    125.180000\n",
            "2288    124.489998\n",
            "2289    122.543800\n",
            "Name: GLD, Length: 2290, dtype: float64\n"
          ]
        }
      ]
    },
    {
      "cell_type": "code",
      "source": [
        "X_train, X_test, Y_train, Y_test = train_test_split(X, Y, test_size = 0.3 ,random_state= 2)"
      ],
      "metadata": {
        "id": "BXE4gSOUEmuV"
      },
      "execution_count": 20,
      "outputs": []
    },
    {
      "cell_type": "code",
      "source": [
        "regressor = RandomForestRegressor(n_estimators = 100)"
      ],
      "metadata": {
        "id": "Bn-aLXC4E2y2"
      },
      "execution_count": 21,
      "outputs": []
    },
    {
      "cell_type": "code",
      "source": [
        "regressor.fit(X_train,Y_train)"
      ],
      "metadata": {
        "colab": {
          "base_uri": "https://localhost:8080/"
        },
        "id": "-GX1qiVbFD3w",
        "outputId": "e29757f9-6d55-4665-b3b6-ecc39328fe39"
      },
      "execution_count": 22,
      "outputs": [
        {
          "output_type": "execute_result",
          "data": {
            "text/plain": [
              "RandomForestRegressor()"
            ]
          },
          "metadata": {},
          "execution_count": 22
        }
      ]
    },
    {
      "cell_type": "code",
      "source": [
        "test_pred = regressor.predict(X_test)"
      ],
      "metadata": {
        "id": "dptbdVdSFH_g"
      },
      "execution_count": 23,
      "outputs": []
    },
    {
      "cell_type": "code",
      "source": [
        "print(test_pred)"
      ],
      "metadata": {
        "colab": {
          "base_uri": "https://localhost:8080/"
        },
        "id": "WuIPc4_jGCSt",
        "outputId": "68780b08-c527-44c3-e7f5-6d3a1734c40e"
      },
      "execution_count": 24,
      "outputs": [
        {
          "output_type": "stream",
          "name": "stdout",
          "text": [
            "[168.68799919  82.00710006 115.88620001 127.35380081 120.51510173\n",
            " 154.78689778 151.03749973 126.10520047 117.9631992  126.09890068\n",
            " 116.20480054 172.69330077 141.97609945 167.92709896 115.13460023\n",
            " 117.62920047 138.20710357 169.78410022 159.39930295 160.3338996\n",
            " 155.06309991 125.31060059 175.12200007 156.76580265 125.07920107\n",
            "  93.71349925  77.40549939 120.88679986 119.20939997 167.37960076\n",
            "  88.66719853 125.4346014   91.11000046 117.63079984 121.10669932\n",
            " 136.34930103 115.45980118 116.64340027 147.74139923 107.15890122\n",
            " 103.85140141  87.24609801 126.6972001  117.88219885 151.9450992\n",
            " 119.8105002  108.08750098 108.03039829  93.26219997 127.12759833\n",
            "  74.73720037 113.62079947 121.0097002  111.1579993  118.92999888\n",
            " 120.51939968 158.34460046 165.07070165 146.99209717  86.35419991\n",
            "  94.26469986  86.87799882  90.68740018 118.58340103 126.51710047\n",
            " 127.74779944 169.66119978 122.16369948 117.15069911  99.71329962\n",
            " 168.45580168 143.14399806 132.55230233 121.15120204 122.30619981\n",
            " 119.79800021 114.6852014  118.42030064 107.19530071 127.909101\n",
            " 113.94370005 107.02210034 117.14580043 119.67069882  89.38450108\n",
            "  87.99699863 145.89860128 127.28210034 113.4872998  110.30449835\n",
            " 108.06409924  77.29819889 169.15390212 114.55079956 121.97959955\n",
            " 127.87360236 154.93639965  91.11339919 135.4729013  158.89200433\n",
            " 124.96660042 125.22290085 131.03300217 114.78990106 119.70269949\n",
            "  92.02529953 110.53369885 168.15299941 156.87910067 114.77790067\n",
            " 106.86360146  79.4564998  113.5311003  125.87220037 107.2381996\n",
            " 119.45290056 155.82860287 158.99489899 119.61650011 135.75420345\n",
            " 101.20689994 117.52409845 119.43990023 112.9512009  102.85629885\n",
            " 160.13229765  99.30909972 147.71620015 125.59700087 170.09939929\n",
            " 125.74449894 127.30739857 127.1938011  113.75469937 113.19470115\n",
            " 123.65049944 102.60899934  89.95949929 124.46529934 101.4555993\n",
            " 107.13769895 113.20820102 117.4372003   99.87469933 121.86219996\n",
            " 162.52149861  87.34119899 106.82409991 117.12800068 127.71150088\n",
            " 123.83180067  81.12719942 120.24200035 155.66329924  88.43059917\n",
            " 110.27409938 119.23749883 173.59039836 103.04179886 106.17380032\n",
            " 122.40480027 156.37619915  87.49829811  93.75750016 112.70710042\n",
            " 177.5954003  114.32939988 119.46090005  95.47570111 125.33599988\n",
            " 165.96570078 114.88710094 116.81130117  88.05439865 148.71560029\n",
            " 120.56089954  89.46679976 112.42730042 116.62850006 118.98130114\n",
            "  88.09929915  94.28430012 116.90199933 119.11540047 120.35740028\n",
            " 126.62729857 121.84979918 150.74279984 164.46700102 118.69889924\n",
            " 120.41740087 149.38649992 117.79929863 173.82089881 105.92359941\n",
            " 105.36030016 149.47300035 113.33490101 124.6470019  147.48780128\n",
            " 119.66890116 115.46300066 112.3749004  113.45590185 142.9312005\n",
            " 117.56139791 103.01700055 115.95070076 103.26170074  99.34070001\n",
            " 117.59010059  90.6887001   91.58970031 152.5358997  102.80110006\n",
            " 154.80500115 114.38010155 139.79560132  90.01289817 115.59749901\n",
            " 112.60750046 122.66050125 121.72549984 165.59910181  92.96769908\n",
            " 135.03890121 121.408299   120.63130052 104.80759969 143.60580225\n",
            " 122.37459943 116.7424005  113.40440106 126.92819772 122.31859945\n",
            " 125.8403991  121.23650056  86.91829863 132.35610147 142.47770204\n",
            "  93.15879968 159.77860013 157.82890457 125.65910003 164.29109968\n",
            " 109.0248001  110.10390128 103.6886979   93.81890165 127.7562024\n",
            " 107.45290032 160.97030053 121.85449986 132.10879962 131.5224018\n",
            " 159.35179963  89.75149805 175.23880195 127.89400076 126.51719899\n",
            "  86.68679933 124.6300993  151.53179755  89.73730002 106.86889987\n",
            " 108.83869962  84.7126994  135.60060094 154.91750026 140.90340311\n",
            "  75.73299959 150.60999888 125.83170046 126.74769986 127.52019848\n",
            " 108.5543993  156.09460146 114.5070008  117.05000122 124.80759952\n",
            " 153.90790139 120.91840022 156.16079972  92.64969924 125.77470048\n",
            " 124.99630012  87.7270993   91.78629947 126.41689919 127.35860218\n",
            " 113.37150157 117.44369787 120.83509948 127.13209761 120.00520094\n",
            " 136.21820083  93.76359854 120.31520052 113.14120148  94.33249934\n",
            " 108.38799991  87.6761992  109.57809918  89.62689927  91.79450067\n",
            " 132.0121024  162.30960046  89.77039928 119.85290097 133.30500163\n",
            " 123.68239952 127.91999994 102.56419922  89.07639868 131.68850017\n",
            " 120.63330125 108.42709991 166.21539984 115.34070094  86.54359867\n",
            " 118.9457008   90.87849988 162.39060036 116.81420042 121.18209998\n",
            " 160.34729792 118.7233001  112.98449937 108.42409866 126.59940035\n",
            "  75.93090077 103.07189995 127.94930263 121.66959939  92.94879916\n",
            " 131.89500068 117.79030065 115.8333003  155.02630187 159.71870101\n",
            " 110.39759906 153.93469732 119.25700129 160.67080143 118.45670091\n",
            " 158.55370045 115.06899949 116.62280024 148.72529925 114.72690042\n",
            " 125.49059871 164.32639847 117.66630007 124.84989925 153.2772031\n",
            " 153.49740244 132.14610056 114.5863003  121.25870191 123.89520031\n",
            "  90.28799942 123.01930016 154.89730176 112.04360058 106.76539972\n",
            " 162.5941015  118.82439996 165.68110043 134.20190123 115.16960019\n",
            " 152.9623985  169.34850293 115.42060005 113.99270102 158.00989995\n",
            "  85.48429837 127.17590029 128.10339992 128.88339961 124.45380068\n",
            " 123.21339991  90.49540144 152.83770041  96.87100013 135.74379991\n",
            "  89.36019888 107.03710031 115.08000098 112.48980122 124.57779929\n",
            "  91.38909862 124.94020033 162.32479975 119.79789892 165.28370054\n",
            " 126.48429826 112.30500025 127.46149861  94.24860123  90.96199998\n",
            " 102.86629938 120.8927997   83.34689918 126.06140025 160.75410486\n",
            " 117.36520088 117.87419894 120.32320038 121.97929963 119.85480072\n",
            " 121.38620033 117.80319989 107.28369952 147.78389934 126.50899839\n",
            " 115.847401    74.23829994 127.72869965 155.22550055 121.1908003\n",
            " 125.45930037  88.85399935 103.01719819 125.29070045 120.41910056\n",
            "  73.41550078 151.25090183 120.88220011 105.2951002   86.50879751\n",
            " 115.15159898 172.11329762 119.85290005 160.87149874 113.22049954\n",
            " 121.01820037 118.41550069  96.05739978 118.60180055 125.75580067\n",
            " 118.58059938  96.34730139 154.33760121 121.68210019 146.88379997\n",
            " 159.13110339 113.80580042 121.9579     151.14909945 126.68650056\n",
            " 165.23320038 135.75279998 120.10969957 167.52219876 108.15429995\n",
            " 121.47260011 140.41150087 107.25379886 110.11840035 113.41000064\n",
            "  90.26199921 125.8620003  119.88050098  93.80890158 151.7175004\n",
            " 116.88280039  80.85479996 121.43720027 102.77160074 127.81689908\n",
            " 123.815599   118.36800037 120.46480022 120.56630031 131.78060143\n",
            " 116.58379858 117.47679867 115.73479896 104.80230021 153.46900127\n",
            " 109.209797   125.97529998  82.92749974 179.5048987   93.23860095\n",
            " 167.39080111 105.71430107 171.48139947 155.90109971 131.88240225\n",
            " 121.13859943 123.80249896 145.53750031 124.91149914 112.3859008\n",
            " 125.40090034 121.59489967 139.04340101  76.3789006   92.66620017\n",
            " 113.84549886 121.152899   127.70359909 122.00900046 126.10190139\n",
            " 122.28720012 119.09910026 104.06589948 118.32769978  85.07819962\n",
            "  92.70790109 121.5598997  118.47380034  92.17450114 125.44330082\n",
            "  97.18829876 104.40689974  89.45449909 147.60800068 108.71029981\n",
            " 120.22100135  91.44800109 118.71219971 128.47949836 111.9173997\n",
            " 155.85300101 151.05090245 108.90230125  96.864499   118.81160037\n",
            " 125.30010113  80.62449964 116.35620088  93.05209943 141.21060224\n",
            " 108.03749928 106.79720093  88.32539916 117.57890019 110.76569859\n",
            " 122.11480062 136.07630116 115.45260097 119.60670029 156.74179859\n",
            " 106.9595016   96.6501012  136.8777     129.06980195 123.00130031\n",
            " 119.86050169 116.1145002  101.25700119 119.04749926 120.89270105\n",
            " 121.67340059 156.1414008   87.24229789 163.74590129 121.70279942\n",
            " 119.09340043 155.52740302 159.63100156 139.6199978  114.96609989\n",
            " 109.1559005  126.45299894 150.48220125  94.102601   115.23580082\n",
            " 122.22199974 121.72489917  87.36149838 130.63530109 130.65000266\n",
            " 122.65739983 113.20240129 109.13799965 154.09180227 111.7354001\n",
            " 112.83580025 118.90820023 113.38520148 117.74830041 124.43049982\n",
            " 125.94929916 134.90269813 117.74280062  91.57699868 118.88720053\n",
            " 118.92440158  87.2242984  119.36959929 117.0018013  117.39449917\n",
            " 117.25289959 161.25820047 116.35850051  86.43310087 108.10559884\n",
            " 123.82540013 154.23779936 117.68640076 120.93650027  86.19920037\n",
            " 127.6345998  144.03150119 127.20339876 162.19639987 117.98150078\n",
            " 117.31939911 118.2922003  164.43110103 125.85140052  99.27809987\n",
            "  89.45349971 106.69600112 123.47820019 118.63739968 120.0446002\n",
            "  90.20759945  92.58369881  89.32109869 108.86120008  95.41330065\n",
            " 148.61680172 179.46299857 155.11320071 154.68510212 122.34529981\n",
            " 139.45560167  87.13049914 123.7753003  119.06850109  97.60410085\n",
            " 125.02600131  91.85580123  92.80959933 102.6465989  117.22990099\n",
            "  87.85099908 153.88979942 111.32670078 109.45899853 125.99790046\n",
            " 169.34740262  72.91150006 145.95680049 124.50540126 112.54270052\n",
            " 128.9464988   91.21979933 126.45480017 158.85470053 121.18780107\n",
            " 120.9526987  124.76050047 146.75550063 119.93809827 124.14029926\n",
            " 127.7895008  122.82620018 144.05999897 152.35029961 120.27220036\n",
            " 148.77889998 117.04539916  85.98349901 120.87259953 124.65810007\n",
            " 125.85890039 166.28539785 122.7794     150.57049905 125.45470003\n",
            "  82.13179867 154.48209944 127.58580003  88.1213982  105.13259988\n",
            " 121.6985996  135.63999732 168.12309549 121.71669989 114.80440073\n",
            "  85.65329987 111.54099986]\n"
          ]
        }
      ]
    },
    {
      "cell_type": "code",
      "source": [
        "error_score = metrics.r2_score(Y_test,test_pred)\n",
        "print(\"R squared error :\",error_score)"
      ],
      "metadata": {
        "colab": {
          "base_uri": "https://localhost:8080/"
        },
        "id": "d8I_p5m_GFTU",
        "outputId": "b89a941f-6277-4556-f3bc-9b4206eff81e"
      },
      "execution_count": 25,
      "outputs": [
        {
          "output_type": "stream",
          "name": "stdout",
          "text": [
            "R squared error : 0.9893369497993365\n"
          ]
        }
      ]
    },
    {
      "cell_type": "code",
      "source": [
        "Y_test = list(Y_test)"
      ],
      "metadata": {
        "id": "cAyzmWU9GZ1Q"
      },
      "execution_count": 26,
      "outputs": []
    },
    {
      "cell_type": "code",
      "source": [
        "plt.plot(Y_test , color = 'blue' , label = 'Actual value')\n",
        "plt.plot(test_pred,color = 'green', label = 'Predicted Value')\n",
        "plt.title('Actual Price vs Predicted Price')\n",
        "plt.xlabel('Number of values')\n",
        "plt.ylabel('GLD Price')\n",
        "plt.legend()\n",
        "plt.show()"
      ],
      "metadata": {
        "colab": {
          "base_uri": "https://localhost:8080/",
          "height": 295
        },
        "id": "kBR4hdcUGfg1",
        "outputId": "c774a2c4-4518-4149-94e2-9b0b8a0b6a8f"
      },
      "execution_count": 27,
      "outputs": [
        {
          "output_type": "display_data",
          "data": {
            "text/plain": [
              "<Figure size 432x288 with 1 Axes>"
            ],
            "image/png": "[encoded data removed]"
          },
          "metadata": {
            "needs_background": "light"
          }
        }
      ]
    },
    {
      "cell_type": "code",
      "source": [],
      "metadata": {
        "id": "tjIA1B4NHDHs"
      },
      "execution_count": null,
      "outputs": []
    }
  ]
}
{
  "cells": [
    {
      "cell_type": "code",
      "execution_count": null,
      "metadata": {
        "id": "-HQmhSkD10dq"
      },
      "outputs": [],
      "source": [
        "import numpy\n",
        "from keras.datasets import imdb\n",
        "from keras.models import Sequential\n",
        "from keras.layers import Dense\n",
        "from keras.layers import LSTM\n",
        "from keras.layers import Embedding\n",
        "from keras.preprocessing import sequence\n",
        "from keras_preprocessing.sequence import pad_sequences\n",
        "\n",
        "# fix random seed for reproducibility\n",
        "#numpy.random.seed(7)"
      ]
    },
    {
      "cell_type": "code",
      "execution_count": null,
      "metadata": {
        "id": "WKKlKKsy3ZeT",
        "colab": {
          "base_uri": "https://localhost:8080/"
        },
        "outputId": "3a75cea2-7203-41e0-8e91-d048c6eff711"
      },
      "outputs": [
        {
          "output_type": "stream",
          "name": "stdout",
          "text": [
            "Downloading data from https://storage.googleapis.com/tensorflow/tf-keras-datasets/imdb.npz\n",
            "17464789/17464789 [==============================] - 0s 0us/step\n"
          ]
        }
      ],
      "source": [
        "top_words = 5000\n",
        "(X_train, y_train), (X_test, y_test) = imdb.load_data(num_words=top_words)"
      ]
    },
    {
      "cell_type": "code",
      "execution_count": null,
      "metadata": {
        "id": "oILf-5_z3a35",
        "outputId": "405a1c60-6583-4580-ebdf-c9576c5d531d",
        "colab": {
          "base_uri": "https://localhost:8080/"
        }
      },
      "outputs": [
        {
          "output_type": "stream",
          "name": "stdout",
          "text": [
            "[1, 194, 1153, 194, 2, 78, 228, 5, 6, 1463, 4369, 2, 134, 26, 4, 715, 8, 118, 1634, 14, 394, 20, 13, 119, 954, 189, 102, 5, 207, 110, 3103, 21, 14, 69, 188, 8, 30, 23, 7, 4, 249, 126, 93, 4, 114, 9, 2300, 1523, 5, 647, 4, 116, 9, 35, 2, 4, 229, 9, 340, 1322, 4, 118, 9, 4, 130, 4901, 19, 4, 1002, 5, 89, 29, 952, 46, 37, 4, 455, 9, 45, 43, 38, 1543, 1905, 398, 4, 1649, 26, 2, 5, 163, 11, 3215, 2, 4, 1153, 9, 194, 775, 7, 2, 2, 349, 2637, 148, 605, 2, 2, 15, 123, 125, 68, 2, 2, 15, 349, 165, 4362, 98, 5, 4, 228, 9, 43, 2, 1157, 15, 299, 120, 5, 120, 174, 11, 220, 175, 136, 50, 9, 4373, 228, 2, 5, 2, 656, 245, 2350, 5, 4, 2, 131, 152, 491, 18, 2, 32, 2, 1212, 14, 9, 6, 371, 78, 22, 625, 64, 1382, 9, 8, 168, 145, 23, 4, 1690, 15, 16, 4, 1355, 5, 28, 6, 52, 154, 462, 33, 89, 78, 285, 16, 145, 95]\n",
            "<class 'list'>\n",
            "189\n",
            "0\n",
            "<class 'numpy.int64'>\n"
          ]
        }
      ],
      "source": [
        "print(X_train[1])\n",
        "print(type(X_train[1]))\n",
        "print(len(X_train[1]))\n",
        "print(y_train[1])\n",
        "print(type(y_train[1]))"
      ]
    },
    {
      "cell_type": "code",
      "execution_count": null,
      "metadata": {
        "id": "J9OUayrQ3cBJ",
        "outputId": "c4c794c9-b405-4dde-a8f3-fa24fa9e6f4f",
        "colab": {
          "base_uri": "https://localhost:8080/"
        }
      },
      "outputs": [
        {
          "output_type": "stream",
          "name": "stdout",
          "text": [
            "(25000, 600)\n",
            "[   0    0    0    0    0    0    0    0    0    0    0    0    0    0\n",
            "    0    0    0    0    0    0    0    0    0    0    0    0    0    0\n",
            "    0    0    0    0    0    0    0    0    0    0    0    0    0    0\n",
            "    0    0    0    0    0    0    0    0    0    0    0    0    0    0\n",
            "    0    0    0    0    0    0    0    0    0    0    0    0    0    0\n",
            "    0    0    0    0    0    0    0    0    0    0    0    0    0    0\n",
            "    0    0    0    0    0    0    0    0    0    0    0    0    0    0\n",
            "    0    0    0    0    0    0    0    0    0    0    0    0    0    0\n",
            "    0    0    0    0    0    0    0    0    0    0    0    0    0    0\n",
            "    0    0    0    0    0    0    0    0    0    0    0    0    0    0\n",
            "    0    0    0    0    0    0    0    0    0    0    0    0    0    0\n",
            "    0    0    0    0    0    0    0    0    0    0    0    0    0    0\n",
            "    0    0    0    0    0    0    0    0    0    0    0    0    0    0\n",
            "    0    0    0    0    0    0    0    0    0    0    0    0    0    0\n",
            "    0    0    0    0    0    0    0    0    0    0    0    0    0    0\n",
            "    0    0    0    0    0    0    0    0    0    0    0    0    0    0\n",
            "    0    0    0    0    0    0    0    0    0    0    0    0    0    0\n",
            "    0    0    0    0    0    0    0    0    0    0    0    0    0    0\n",
            "    0    0    0    0    0    0    0    0    0    0    0    0    0    0\n",
            "    0    0    0    0    0    0    0    0    0    0    0    0    0    0\n",
            "    0    0    0    0    0    0    0    0    0    0    0    0    0    0\n",
            "    0    0    0    0    0    0    0    0    0    0    0    0    0    0\n",
            "    0    0    0    0    0    0    0    0    0    0    0    0    0    0\n",
            "    0    0    0    0    0    0    0    0    0    0    0    0    0    0\n",
            "    0    0    0    0    0    0    0    0    0    0    0    0    0    0\n",
            "    0    0    0    0    0    0    0    0    0    0    0    0    0    0\n",
            "    0    0    0    0    0    0    0    0    0    0    0    0    0    0\n",
            "    0    0    0    0    0    0    0    0    0    0    0    0    0    0\n",
            "    0    0    0    0    0    0    0    0    0    0    0    0    0    0\n",
            "    0    0    0    0    0    1  194 1153  194    2   78  228    5    6\n",
            " 1463 4369    2  134   26    4  715    8  118 1634   14  394   20   13\n",
            "  119  954  189  102    5  207  110 3103   21   14   69  188    8   30\n",
            "   23    7    4  249  126   93    4  114    9 2300 1523    5  647    4\n",
            "  116    9   35    2    4  229    9  340 1322    4  118    9    4  130\n",
            " 4901   19    4 1002    5   89   29  952   46   37    4  455    9   45\n",
            "   43   38 1543 1905  398    4 1649   26    2    5  163   11 3215    2\n",
            "    4 1153    9  194  775    7    2    2  349 2637  148  605    2    2\n",
            "   15  123  125   68    2    2   15  349  165 4362   98    5    4  228\n",
            "    9   43    2 1157   15  299  120    5  120  174   11  220  175  136\n",
            "   50    9 4373  228    2    5    2  656  245 2350    5    4    2  131\n",
            "  152  491   18    2   32    2 1212   14    9    6  371   78   22  625\n",
            "   64 1382    9    8  168  145   23    4 1690   15   16    4 1355    5\n",
            "   28    6   52  154  462   33   89   78  285   16  145   95]\n"
          ]
        }
      ],
      "source": [
        "# Truncate and/or pad input sequences\n",
        "max_review_length = 600\n",
        "X_train = pad_sequences(X_train, maxlen=max_review_length)\n",
        "X_test = pad_sequences(X_test, maxlen=max_review_length)\n",
        "\n",
        "print(X_train.shape)\n",
        "print(X_train[1])"
      ]
    },
    {
      "cell_type": "code",
      "execution_count": null,
      "metadata": {
        "id": "G1_PRdMR3dpx",
        "outputId": "f332dbd2-f835-4737-aced-b482a9974c8c",
        "colab": {
          "base_uri": "https://localhost:8080/"
        }
      },
      "outputs": [
        {
          "output_type": "stream",
          "name": "stdout",
          "text": [
            "Model: \"sequential\"\n",
            "_________________________________________________________________\n",
            " Layer (type)                Output Shape              Param #   \n",
            "=================================================================\n",
            " embedding (Embedding)       (None, 600, 32)           160032    \n",
            "                                                                 \n",
            " lstm (LSTM)                 (None, 100)               53200     \n",
            "                                                                 \n",
            " dense (Dense)               (None, 1)                 101       \n",
            "                                                                 \n",
            "=================================================================\n",
            "Total params: 213,333\n",
            "Trainable params: 213,333\n",
            "Non-trainable params: 0\n",
            "_________________________________________________________________\n",
            "None\n"
          ]
        }
      ],
      "source": [
        "import tensorflow as tf\n",
        "# Create the model\n",
        "\n",
        "embedding_vector_length = 32\n",
        "\n",
        "model = Sequential()\n",
        "\n",
        "model.add(Embedding(top_words + 1, embedding_vector_length, input_length=max_review_length))\n",
        "model.add(LSTM(100))\n",
        "model.add(Dense(1, activation='sigmoid'))\n",
        "model.compile(loss='binary_crossentropy', optimizer='adam', metrics=['accuracy'])\n",
        "\n",
        "print(model.summary())"
      ]
    },
    {
      "cell_type": "code",
      "execution_count": null,
      "metadata": {
        "id": "RSY2soKK3fux",
        "outputId": "7b5e8cb1-b902-42f0-a99c-a020b39f4288",
        "colab": {
          "base_uri": "https://localhost:8080/"
        }
      },
      "outputs": [
        {
          "output_type": "stream",
          "name": "stdout",
          "text": [
            "Epoch 1/10\n",
            "391/391 [==============================] - 29s 56ms/step - loss: 0.4773 - accuracy: 0.7686 - val_loss: 0.3358 - val_accuracy: 0.8610\n",
            "Epoch 2/10\n",
            "391/391 [==============================] - 16s 41ms/step - loss: 0.3277 - accuracy: 0.8620 - val_loss: 0.3104 - val_accuracy: 0.8735\n",
            "Epoch 3/10\n",
            "391/391 [==============================] - 15s 39ms/step - loss: 0.2723 - accuracy: 0.8902 - val_loss: 0.3537 - val_accuracy: 0.8686\n",
            "Epoch 4/10\n",
            "391/391 [==============================] - 16s 40ms/step - loss: 0.2267 - accuracy: 0.9138 - val_loss: 0.3473 - val_accuracy: 0.8574\n",
            "Epoch 5/10\n",
            "391/391 [==============================] - 16s 41ms/step - loss: 0.2033 - accuracy: 0.9232 - val_loss: 0.3175 - val_accuracy: 0.8698\n",
            "Epoch 6/10\n",
            "391/391 [==============================] - 16s 41ms/step - loss: 0.1697 - accuracy: 0.9355 - val_loss: 0.3301 - val_accuracy: 0.8744\n",
            "Epoch 7/10\n",
            "391/391 [==============================] - 16s 40ms/step - loss: 0.1471 - accuracy: 0.9460 - val_loss: 0.3955 - val_accuracy: 0.8630\n",
            "Epoch 8/10\n",
            "391/391 [==============================] - 16s 40ms/step - loss: 0.1330 - accuracy: 0.9518 - val_loss: 0.3692 - val_accuracy: 0.8553\n",
            "Epoch 9/10\n",
            "391/391 [==============================] - 16s 42ms/step - loss: 0.1449 - accuracy: 0.9446 - val_loss: 0.4468 - val_accuracy: 0.8601\n",
            "Epoch 10/10\n",
            "391/391 [==============================] - 16s 42ms/step - loss: 0.1189 - accuracy: 0.9564 - val_loss: 0.4075 - val_accuracy: 0.8608\n",
            "Accuracy: 86.08%\n"
          ]
        }
      ],
      "source": [
        "hist=model.fit(X_train, y_train, epochs=10, batch_size=64,verbose=1, validation_data=(X_test,y_test))\n",
        "\n",
        "# Final evaluation of the model\n",
        "scores = model.evaluate(X_test, y_test, verbose=0)\n",
        "\n",
        "print(\"Accuracy: %.2f%%\" % (scores[1]*100))\n"
      ]
    },
    {
      "cell_type": "code",
      "execution_count": null,
      "metadata": {
        "id": "qk75Y2oLxvgG",
        "outputId": "32bdb937-a1ff-4c68-8866-bded03778be5",
        "colab": {
          "base_uri": "https://localhost:8080/",
          "height": 282
        }
      },
      "outputs": [
        {
          "output_type": "execute_result",
          "data": {
            "text/plain": [
              "<matplotlib.legend.Legend at 0x7fecc009bb90>"
            ]
          },
          "metadata": {},
          "execution_count": 16
        },
        {
          "output_type": "display_data",
          "data": {
            "text/plain": [
              "<Figure size 432x288 with 1 Axes>"
            ],
            "image/png": "[encoded data removed]"
          },
          "metadata": {
            "needs_background": "light"
          }
        }
      ],
      "source": [
        "import matplotlib.pyplot as plt\n",
        "y1=hist.history['accuracy']\n",
        "y2=hist.history['val_accuracy']  \n",
        "plt.plot(y1)\n",
        "plt.plot(y2)\n",
        "plt.legend(['accuracy', 'val_accuracy'], loc='lower right')"
      ]
    },
    {
      "cell_type": "code",
      "execution_count": null,
      "metadata": {
        "id": "ljHLeFMbxvgH",
        "colab": {
          "base_uri": "https://localhost:8080/"
        },
        "outputId": "21a19718-32bc-4698-db21-41b3f13cba6d"
      },
      "outputs": [
        {
          "output_type": "stream",
          "name": "stdout",
          "text": [
            "[   0    0    0    0    0    0    0    0    0    0    0    0    0    0\n",
            "    0    0    0    0    0    0    0    0    0    0    0    0    0    0\n",
            "    0    0    0    0    0    0    0    0    0    0    0    0    0    0\n",
            "    0    0    0    0    0    0    0    0    0    0    0    0    0    0\n",
            "    0    0    0    0    0    0    0    0    0    0    0    0    0    0\n",
            "    0    0    0    0    0    0    0    0    0    0    0    0    0    0\n",
            "    0    0    0    0    0    0    0    0    0    0    0    0    0    0\n",
            "    0    0    0    0    0    0    0    0    0    0    0    0    0    0\n",
            "    0    0    0    0    0    0    0    0    0    0    0    0    0    0\n",
            "    0    0    0    0    0    0    0    0    0    0    0    0    0    0\n",
            "    0    0    0    0    0    0    0    0    0    0    0    0    0    0\n",
            "    0    0    0    0    0    0    0    0    0    0    0    0    0    0\n",
            "    0    0    0    0    0    0    0    0    0    0    0    0    0    0\n",
            "    0    0    0    0    0    0    0    0    0    0    0    0    0    0\n",
            "    0    0    0    0    0    0    0    0    0    0    0    0    0    0\n",
            "    0    0    0    0    0    0    0    0    0    0    0    0    0    0\n",
            "    0    0    0    0    0    0    0    0    0    0    0    0    0    0\n",
            "    0    0    0    0    0    0    0    0    0    0    0    0    0    0\n",
            "    0    0    0    0    0    0    0    0    0    0    0    0    0    0\n",
            "    0    0    0    0    0    0    0    0    0    0    0    0    0    0\n",
            "    0    0    0    0    0    0    0    0    0    0    0    0    0    0\n",
            "    0    0    0    0    0    0    0    0    0    0    0    0    0    0\n",
            "    0    0    0    0    0    0    0    0    0    0    0    0    0    0\n",
            "    0    0    0    0    0    0    0    0    0    0    0    0    0    0\n",
            "    0    0    0    0    1   14   22 3443    6  176    7    2   88   12\n",
            " 2679   23 1310    5  109  943    4  114    9   55  606    5  111    7\n",
            "    4  139  193  273   23    4  172  270   11    2    2    4    2 2801\n",
            "  109 1603   21    4   22 3861    8    6 1193 1330   10   10    4  105\n",
            "  987   35  841    2   19  861 1074    5 1987    2   45   55  221   15\n",
            "  670    2  526   14 1069    4  405    5 2438    7   27   85  108  131\n",
            "    4    2    2 3884  405    9 3523  133    5   50   13  104   51   66\n",
            "  166   14   22  157    9    4  530  239   34    2 2801   45  407   31\n",
            "    7   41 3778  105   21   59  299   12   38  950    5 4521   15   45\n",
            "  629  488 2733  127    6   52  292   17    4    2  185  132 1988    2\n",
            " 1799  488 2693   47    6  392  173    4    2 4378  270 2352    4 1500\n",
            "    7    4   65   55   73   11  346   14   20    9    6  976 2078    7\n",
            "    2  861    2    5 4182   30 3127    2   56    4  841    5  990  692\n",
            "    8    4 1669  398  229   10   10   13 2822  670    2   14    9   31\n",
            "    7   27  111  108   15 2033   19    2 1429  875  551   14   22    9\n",
            " 1193   21   45 4829    5   45  252    8    2    6  565  921 3639   39\n",
            "    4  529   48   25  181    8   67   35 1732   22   49  238   60  135\n",
            " 1162   14    9  290    4   58   10   10  472   45   55  878    8  169\n",
            "   11  374    2   25  203   28    8  818   12  125    4 3077] 1\n"
          ]
        }
      ],
      "source": [
        "print(X_test[1],y_test[1])"
      ]
    },
    {
      "cell_type": "code",
      "source": [
        "pred=model.predict(X_test)\n",
        "print(pred)"
      ],
      "metadata": {
        "colab": {
          "base_uri": "https://localhost:8080/"
        },
        "id": "qB1Pc9rkQXeQ",
        "outputId": "f6d331e5-1806-4c42-cc0e-de754915f415"
      },
      "execution_count": null,
      "outputs": [
        {
          "output_type": "stream",
          "name": "stdout",
          "text": [
            "782/782 [==============================] - 7s 9ms/step\n",
            "[[0.01177492]\n",
            " [0.99944526]\n",
            " [0.29558614]\n",
            " ...\n",
            " [0.11245289]\n",
            " [0.11914311]\n",
            " [0.7998608 ]]\n"
          ]
        }
      ]
    }
  ],
  "metadata": {
    "colab": {
      "provenance": []
    },
    "kernelspec": {
      "display_name": "Python 3 (ipykernel)",
      "language": "python",
      "name": "python3"
    },
    "language_info": {
      "codemirror_mode": {
        "name": "ipython",
        "version": 3
      },
      "file_extension": ".py",
      "mimetype": "text/x-python",
      "name": "python",
      "nbconvert_exporter": "python",
      "pygments_lexer": "ipython3",
      "version": "3.10.0"
    },
    "accelerator": "GPU",
    "gpuClass": "standard"
  },
  "nbformat": 4,
  "nbformat_minor": 0
}